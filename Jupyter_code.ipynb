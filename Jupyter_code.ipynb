{
 "cells": [
  {
   "cell_type": "code",
   "execution_count": 3,
   "id": "07393e37-3b15-466b-8ff5-4b41ac19abbb",
   "metadata": {},
   "outputs": [
    {
     "name": "stdout",
     "output_type": "stream",
     "text": [
      "Training input shape: (320, 17)\n",
      "Testing input shape: (80, 17)\n",
      "Training output shape: (320, 4)\n",
      "Testing output shape: (80, 4)\n"
     ]
    }
   ],
   "source": [
    "import pandas as pd\n",
    "from sklearn.model_selection import train_test_split\n",
    "\n",
    "# Load the dataset\n",
    "file_path = \"Final_Dataset.csv\"  # Replace with your file's path\n",
    "data = pd.read_csv(file_path)\n",
    "\n",
    "# Define the input (X) and output (y) features\n",
    "input_features = [\n",
    "    'Stage', 'Age', 'Male_or_Female', 'Hair_Color', 'Skin_Tone', \n",
    "    'Height', 'Color_Blindness', 'Weight', 'Eye_Colour', 'Eye_Sight', \n",
    "    'Vericose_Vein', 'Blood Pressure', 'Thyroid', 'Blood_Group', \n",
    "    'Allergy', 'Migrane', 'Nerve_Problem'\n",
    "]\n",
    "\n",
    "output_features = ['Sample_ID', 'Condition', 'RNA_Sequence', 'Varied_RNA_Sequence']\n",
    "\n",
    "# Split dataset into input (X) and output (y)\n",
    "X = data[input_features]\n",
    "y = data[output_features]\n",
    "\n",
    "# Split into training and testing datasets (80% train, 20% test)\n",
    "X_train, X_test, y_train, y_test = train_test_split(X, y, test_size=0.2, random_state=42)\n",
    "\n",
    "# Display the shapes of the resulting datasets\n",
    "print(\"Training input shape:\", X_train.shape)\n",
    "print(\"Testing input shape:\", X_test.shape)\n",
    "print(\"Training output shape:\", y_train.shape)\n",
    "print(\"Testing output shape:\", y_test.shape)\n"
   ]
  },
  {
   "cell_type": "code",
   "execution_count": 4,
   "id": "aad8ebc8-d294-41ec-a0e8-33cb1c6b7585",
   "metadata": {},
   "outputs": [
    {
     "name": "stderr",
     "output_type": "stream",
     "text": [
      "C:\\Users\\User\\AppData\\Roaming\\Python\\Python311\\site-packages\\sklearn\\linear_model\\_logistic.py:465: ConvergenceWarning: lbfgs failed to converge (status=1):\n",
      "STOP: TOTAL NO. of ITERATIONS REACHED LIMIT.\n",
      "\n",
      "Increase the number of iterations (max_iter) or scale the data as shown in:\n",
      "    https://scikit-learn.org/stable/modules/preprocessing.html\n",
      "Please also refer to the documentation for alternative solver options:\n",
      "    https://scikit-learn.org/stable/modules/linear_model.html#logistic-regression\n",
      "  n_iter_i = _check_optimize_result(\n"
     ]
    },
    {
     "name": "stdout",
     "output_type": "stream",
     "text": [
      "Model Performance Metrics:\n",
      "                 Model  Accuracy  Precision  Recall  F1 Score\n",
      "0  Logistic Regression    0.3125   0.326507  0.3125  0.311492\n",
      "1        Random Forest    0.3375   0.348263  0.3375  0.322371\n",
      "2        Decision Tree    0.4125   0.427209  0.4125  0.416061\n",
      "3                  SVM    0.3000   0.090000  0.3000  0.138462\n",
      "\n",
      "Best Model Based on F1 Score:\n",
      "Model        Decision Tree\n",
      "Accuracy            0.4125\n",
      "Precision         0.427209\n",
      "Recall              0.4125\n",
      "F1 Score          0.416061\n",
      "Name: 2, dtype: object\n"
     ]
    }
   ],
   "source": [
    "from sklearn.ensemble import RandomForestClassifier\n",
    "from sklearn.linear_model import LogisticRegression\n",
    "from sklearn.svm import SVC\n",
    "from sklearn.tree import DecisionTreeClassifier\n",
    "from sklearn.metrics import accuracy_score, precision_score, recall_score, f1_score\n",
    "from sklearn.preprocessing import LabelEncoder\n",
    "import numpy as np\n",
    "\n",
    "# Encode categorical data (necessary for models to work)\n",
    "X_encoded = X.copy()\n",
    "y_encoded = y['Condition'].copy()  # Assuming Condition is the target variable\n",
    "\n",
    "# Encode input features\n",
    "label_encoders = {}\n",
    "for col in X_encoded.select_dtypes(include=['object']).columns:\n",
    "    le = LabelEncoder()\n",
    "    X_encoded[col] = le.fit_transform(X_encoded[col])\n",
    "    label_encoders[col] = le\n",
    "\n",
    "# Encode output feature (if categorical)\n",
    "y_le = LabelEncoder()\n",
    "y_encoded = y_le.fit_transform(y_encoded)\n",
    "\n",
    "# Splitting again with encoded data\n",
    "X_train_enc, X_test_enc, y_train_enc, y_test_enc = train_test_split(X_encoded, y_encoded, test_size=0.2, random_state=42)\n",
    "\n",
    "# Initialize models\n",
    "models = {\n",
    "    \"Logistic Regression\": LogisticRegression(max_iter=1000),\n",
    "    \"Random Forest\": RandomForestClassifier(),\n",
    "    \"Decision Tree\": DecisionTreeClassifier(),\n",
    "    \"SVM\": SVC()\n",
    "}\n",
    "\n",
    "# Results storage\n",
    "results = []\n",
    "\n",
    "# Train and evaluate each model\n",
    "for name, model in models.items():\n",
    "    # Train the model\n",
    "    model.fit(X_train_enc, y_train_enc)\n",
    "    \n",
    "    # Predict on test data\n",
    "    y_pred = model.predict(X_test_enc)\n",
    "    \n",
    "    # Calculate metrics\n",
    "    accuracy = accuracy_score(y_test_enc, y_pred)\n",
    "    precision = precision_score(y_test_enc, y_pred, average='weighted', zero_division=0)\n",
    "    recall = recall_score(y_test_enc, y_pred, average='weighted', zero_division=0)\n",
    "    f1 = f1_score(y_test_enc, y_pred, average='weighted')\n",
    "    \n",
    "    # Store results\n",
    "    results.append({\n",
    "        \"Model\": name,\n",
    "        \"Accuracy\": accuracy,\n",
    "        \"Precision\": precision,\n",
    "        \"Recall\": recall,\n",
    "        \"F1 Score\": f1\n",
    "    })\n",
    "\n",
    "# Create a DataFrame of results\n",
    "results_df = pd.DataFrame(results)\n",
    "\n",
    "# Find the best model based on F1 score\n",
    "best_model = results_df.loc[results_df['F1 Score'].idxmax()]\n",
    "\n",
    "print(\"Model Performance Metrics:\")\n",
    "print(results_df)\n",
    "print(\"\\nBest Model Based on F1 Score:\")\n",
    "print(best_model)\n"
   ]
  },
  {
   "cell_type": "code",
   "execution_count": 5,
   "id": "a3c3c036-139c-409d-b00e-5021c58646b9",
   "metadata": {},
   "outputs": [
    {
     "name": "stdout",
     "output_type": "stream",
     "text": [
      "Model saved to multi_output_model.pkl\n"
     ]
    }
   ],
   "source": [
    "from sklearn.multioutput import MultiOutputClassifier\n",
    "from sklearn.ensemble import RandomForestClassifier\n",
    "import pickle\n",
    "\n",
    "# Define the model\n",
    "multi_output_model = MultiOutputClassifier(RandomForestClassifier())\n",
    "\n",
    "# Fit the model on the training data\n",
    "multi_output_model.fit(X_train_enc, y_train[output_features])\n",
    "\n",
    "# Save the model to a file\n",
    "model_file_path = \"multi_output_model.pkl\"\n",
    "with open(model_file_path, 'wb') as file:\n",
    "    pickle.dump(multi_output_model, file)\n",
    "\n",
    "print(f\"Model saved to {model_file_path}\")\n"
   ]
  },
  {
   "cell_type": "code",
   "execution_count": 6,
   "id": "12ad06eb-7679-407c-9de0-e4408985bd26",
   "metadata": {},
   "outputs": [
    {
     "name": "stdout",
     "output_type": "stream",
     "text": [
      "Predicted Output:\n",
      "  Sample_ID         Condition  \\\n",
      "0  Sample_1  Moderate Quality   \n",
      "\n",
      "                                        RNA_Sequence  \\\n",
      "0  AAGUAGGAGUUAACCUUUGUGUUAAAGGUGAUUCAGGUAAUCCAAA...   \n",
      "\n",
      "                                 Varied_RNA_Sequence  \n",
      "0  AAGUAGGAGUAAGGUUUGUGUUAAGGUGAUGAGGUUGGAAAGGAGA...  \n"
     ]
    }
   ],
   "source": [
    "# Load the saved model\n",
    "with open(model_file_path, 'rb') as file:\n",
    "    loaded_model = pickle.load(file)\n",
    "\n",
    "# User input\n",
    "user_input = {\n",
    "    'Stage': 'Blastocyst',\n",
    "    'Age': 25,\n",
    "    'Male_or_Female': 'Male',\n",
    "    'Hair_Color': 'Brown',\n",
    "    'Skin_Tone': 'Dark',\n",
    "    'Height': 161,\n",
    "    'Color_Blindness': 'No',\n",
    "    'Weight': 62,\n",
    "    'Eye_Colour': 'Blue',\n",
    "    'Eye_Sight': 'Poor',\n",
    "    'Vericose_Vein': 'No',\n",
    "    'Blood Pressure': 'Low',\n",
    "    'Thyroid': 'No',\n",
    "    'Blood_Group': 'O+',\n",
    "    'Allergy': 'Yes',\n",
    "    'Migrane': 'Yes',\n",
    "    'Nerve_Problem': 'Yes'\n",
    "}\n",
    "\n",
    "# Convert user input to DataFrame\n",
    "user_input_df = pd.DataFrame([user_input])\n",
    "\n",
    "# Encode user input\n",
    "for col in user_input_df.select_dtypes(include=['object']).columns:\n",
    "    if col in label_encoders:\n",
    "        user_input_df[col] = label_encoders[col].transform(user_input_df[col])\n",
    "\n",
    "# Predict the output\n",
    "predicted_output = loaded_model.predict(user_input_df)\n",
    "\n",
    "# Decode the predicted output if necessary\n",
    "predicted_df = pd.DataFrame(predicted_output, columns=output_features)\n",
    "predicted_df['Sample_ID'] = y['Sample_ID']  # Sample_ID is directly copied as it may not need prediction\n",
    "\n",
    "print(\"Predicted Output:\")\n",
    "print(predicted_df)\n"
   ]
  },
  {
   "cell_type": "code",
   "execution_count": null,
   "id": "1225d53f-3f34-4a92-9c1b-aaaab5d64655",
   "metadata": {},
   "outputs": [],
   "source": []
  }
 ],
 "metadata": {
  "kernelspec": {
   "display_name": "Python 3 (ipykernel)",
   "language": "python",
   "name": "python3"
  },
  "language_info": {
   "codemirror_mode": {
    "name": "ipython",
    "version": 3
   },
   "file_extension": ".py",
   "mimetype": "text/x-python",
   "name": "python",
   "nbconvert_exporter": "python",
   "pygments_lexer": "ipython3",
   "version": "3.11.7"
  }
 },
 "nbformat": 4,
 "nbformat_minor": 5
}
